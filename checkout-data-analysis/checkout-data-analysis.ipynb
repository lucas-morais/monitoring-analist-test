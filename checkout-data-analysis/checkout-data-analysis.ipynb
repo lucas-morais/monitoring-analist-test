{
 "cells": [
  {
   "cell_type": "markdown",
   "id": "216a052a-58d0-4fcc-a833-1a3ed2c8b69e",
   "metadata": {},
   "source": [
    "# __Analise: Checkout Data__"
   ]
  },
  {
   "cell_type": "markdown",
   "id": "0f65550a-4bb9-476d-8124-e032d32afcff",
   "metadata": {},
   "source": [
    "## Importando Dependências"
   ]
  },
  {
   "cell_type": "code",
   "execution_count": 1,
   "id": "c445704b-e584-4572-ac70-994d3df4268e",
   "metadata": {},
   "outputs": [],
   "source": [
    "import pandas as pd\n",
    "\n",
    "import matplotlib.pyplot as plt\n",
    "\n",
    "import statsmodels as sm\n",
    "\n",
    "import warnings\n",
    "warnings.filterwarnings(\"ignore\")\n"
   ]
  },
  {
   "cell_type": "markdown",
   "id": "b55718ad-a413-4a53-bd06-a062955b9093",
   "metadata": {},
   "source": [
    "## Carregando Dados"
   ]
  },
  {
   "cell_type": "code",
   "execution_count": 2,
   "id": "9e6b2874-6ec1-43e6-b116-b2988e00da6e",
   "metadata": {},
   "outputs": [
    {
     "data": {
      "text/html": [
       "<div>\n",
       "<style scoped>\n",
       "    .dataframe tbody tr th:only-of-type {\n",
       "        vertical-align: middle;\n",
       "    }\n",
       "\n",
       "    .dataframe tbody tr th {\n",
       "        vertical-align: top;\n",
       "    }\n",
       "\n",
       "    .dataframe thead th {\n",
       "        text-align: right;\n",
       "    }\n",
       "</style>\n",
       "<table border=\"1\" class=\"dataframe\">\n",
       "  <thead>\n",
       "    <tr style=\"text-align: right;\">\n",
       "      <th></th>\n",
       "      <th>time</th>\n",
       "      <th>avg_last_30days</th>\n",
       "      <th>avg_last_7days</th>\n",
       "      <th>same_day_last_week</th>\n",
       "      <th>yesterday</th>\n",
       "      <th>today</th>\n",
       "    </tr>\n",
       "  </thead>\n",
       "  <tbody>\n",
       "    <tr>\n",
       "      <th>0</th>\n",
       "      <td>00h</td>\n",
       "      <td>13.60</td>\n",
       "      <td>14.4</td>\n",
       "      <td>16.0</td>\n",
       "      <td>9.0</td>\n",
       "      <td>14.0</td>\n",
       "    </tr>\n",
       "    <tr>\n",
       "      <th>1</th>\n",
       "      <td>01h</td>\n",
       "      <td>4.90</td>\n",
       "      <td>5.2</td>\n",
       "      <td>2.0</td>\n",
       "      <td>4.0</td>\n",
       "      <td>6.0</td>\n",
       "    </tr>\n",
       "    <tr>\n",
       "      <th>2</th>\n",
       "      <td>02h</td>\n",
       "      <td>2.75</td>\n",
       "      <td>2.0</td>\n",
       "      <td>3.0</td>\n",
       "      <td>1.0</td>\n",
       "      <td>2.0</td>\n",
       "    </tr>\n",
       "    <tr>\n",
       "      <th>3</th>\n",
       "      <td>03h</td>\n",
       "      <td>1.15</td>\n",
       "      <td>0.6</td>\n",
       "      <td>1.0</td>\n",
       "      <td>1.0</td>\n",
       "      <td>NaN</td>\n",
       "    </tr>\n",
       "    <tr>\n",
       "      <th>4</th>\n",
       "      <td>04h</td>\n",
       "      <td>1.20</td>\n",
       "      <td>1.4</td>\n",
       "      <td>1.0</td>\n",
       "      <td>NaN</td>\n",
       "      <td>NaN</td>\n",
       "    </tr>\n",
       "  </tbody>\n",
       "</table>\n",
       "</div>"
      ],
      "text/plain": [
       "  time  avg_last_30days  avg_last_7days  same_day_last_week  yesterday  today\n",
       "0  00h            13.60            14.4                16.0        9.0   14.0\n",
       "1  01h             4.90             5.2                 2.0        4.0    6.0\n",
       "2  02h             2.75             2.0                 3.0        1.0    2.0\n",
       "3  03h             1.15             0.6                 1.0        1.0    NaN\n",
       "4  04h             1.20             1.4                 1.0        NaN    NaN"
      ]
     },
     "execution_count": 2,
     "metadata": {},
     "output_type": "execute_result"
    }
   ],
   "source": [
    "df = pd.read_csv(\"dados/checkout_data.csv\")\n",
    "df.head()"
   ]
  },
  {
   "cell_type": "markdown",
   "id": "a0db5ad8-4586-44d6-b66a-24714bc9ba96",
   "metadata": {},
   "source": [
    "## Análise Exploratória"
   ]
  },
  {
   "cell_type": "code",
   "execution_count": 3,
   "id": "0cac2ee6-7880-4927-ac3f-030eab9fab9a",
   "metadata": {},
   "outputs": [
    {
     "data": {
      "text/plain": [
       "(17, 6)"
      ]
     },
     "execution_count": 3,
     "metadata": {},
     "output_type": "execute_result"
    }
   ],
   "source": [
    "df.shape"
   ]
  },
  {
   "cell_type": "code",
   "execution_count": 4,
   "id": "51783d3f-ea94-4b55-b97e-cf30f196852f",
   "metadata": {},
   "outputs": [
    {
     "data": {
      "text/plain": [
       "time                   object\n",
       "avg_last_30days       float64\n",
       "avg_last_7days        float64\n",
       "same_day_last_week    float64\n",
       "yesterday             float64\n",
       "today                 float64\n",
       "dtype: object"
      ]
     },
     "execution_count": 4,
     "metadata": {},
     "output_type": "execute_result"
    }
   ],
   "source": [
    "df.dtypes"
   ]
  },
  {
   "cell_type": "code",
   "execution_count": 5,
   "id": "08a3c631-5ad0-4709-9309-240d628d649c",
   "metadata": {},
   "outputs": [
    {
     "data": {
      "text/plain": [
       "time                  0\n",
       "avg_last_30days       0\n",
       "avg_last_7days        0\n",
       "same_day_last_week    1\n",
       "yesterday             2\n",
       "today                 2\n",
       "dtype: int64"
      ]
     },
     "execution_count": 5,
     "metadata": {},
     "output_type": "execute_result"
    }
   ],
   "source": [
    "df.isna().sum()"
   ]
  },
  {
   "cell_type": "markdown",
   "id": "2cac9205-6c10-4f6a-bb57-86355278db70",
   "metadata": {},
   "source": [
    "### Transformando coluna de datas em index"
   ]
  },
  {
   "cell_type": "code",
   "execution_count": 6,
   "id": "8a932bc1-bb09-425f-a028-87f160bf0203",
   "metadata": {},
   "outputs": [
    {
     "data": {
      "text/html": [
       "<div>\n",
       "<style scoped>\n",
       "    .dataframe tbody tr th:only-of-type {\n",
       "        vertical-align: middle;\n",
       "    }\n",
       "\n",
       "    .dataframe tbody tr th {\n",
       "        vertical-align: top;\n",
       "    }\n",
       "\n",
       "    .dataframe thead th {\n",
       "        text-align: right;\n",
       "    }\n",
       "</style>\n",
       "<table border=\"1\" class=\"dataframe\">\n",
       "  <thead>\n",
       "    <tr style=\"text-align: right;\">\n",
       "      <th></th>\n",
       "      <th>avg_last_30days</th>\n",
       "      <th>avg_last_7days</th>\n",
       "      <th>same_day_last_week</th>\n",
       "      <th>yesterday</th>\n",
       "      <th>today</th>\n",
       "    </tr>\n",
       "    <tr>\n",
       "      <th>time</th>\n",
       "      <th></th>\n",
       "      <th></th>\n",
       "      <th></th>\n",
       "      <th></th>\n",
       "      <th></th>\n",
       "    </tr>\n",
       "  </thead>\n",
       "  <tbody>\n",
       "    <tr>\n",
       "      <th>00</th>\n",
       "      <td>13.60</td>\n",
       "      <td>14.4</td>\n",
       "      <td>16.0</td>\n",
       "      <td>9.0</td>\n",
       "      <td>14.0</td>\n",
       "    </tr>\n",
       "    <tr>\n",
       "      <th>01</th>\n",
       "      <td>4.90</td>\n",
       "      <td>5.2</td>\n",
       "      <td>2.0</td>\n",
       "      <td>4.0</td>\n",
       "      <td>6.0</td>\n",
       "    </tr>\n",
       "    <tr>\n",
       "      <th>02</th>\n",
       "      <td>2.75</td>\n",
       "      <td>2.0</td>\n",
       "      <td>3.0</td>\n",
       "      <td>1.0</td>\n",
       "      <td>2.0</td>\n",
       "    </tr>\n",
       "    <tr>\n",
       "      <th>03</th>\n",
       "      <td>1.15</td>\n",
       "      <td>0.6</td>\n",
       "      <td>1.0</td>\n",
       "      <td>1.0</td>\n",
       "      <td>NaN</td>\n",
       "    </tr>\n",
       "    <tr>\n",
       "      <th>04</th>\n",
       "      <td>1.20</td>\n",
       "      <td>1.4</td>\n",
       "      <td>1.0</td>\n",
       "      <td>NaN</td>\n",
       "      <td>NaN</td>\n",
       "    </tr>\n",
       "  </tbody>\n",
       "</table>\n",
       "</div>"
      ],
      "text/plain": [
       "      avg_last_30days  avg_last_7days  same_day_last_week  yesterday  today\n",
       "time                                                                       \n",
       "00              13.60            14.4                16.0        9.0   14.0\n",
       "01               4.90             5.2                 2.0        4.0    6.0\n",
       "02               2.75             2.0                 3.0        1.0    2.0\n",
       "03               1.15             0.6                 1.0        1.0    NaN\n",
       "04               1.20             1.4                 1.0        NaN    NaN"
      ]
     },
     "execution_count": 6,
     "metadata": {},
     "output_type": "execute_result"
    }
   ],
   "source": [
    "df[\"time\"] = pd.to_datetime(df[\"time\"], format=\"%Hh\").dt.strftime('%H')\n",
    "df.set_index(\"time\", inplace=True)\n",
    "\n",
    "df.head()"
   ]
  },
  {
   "cell_type": "code",
   "execution_count": 7,
   "id": "4bb7df60-6b0f-4f12-8fa3-d089a86fa7bc",
   "metadata": {},
   "outputs": [
    {
     "data": {
      "text/plain": [
       "time\n",
       "00    14.0\n",
       "01     6.0\n",
       "02     2.0\n",
       "03     NaN\n",
       "04     NaN\n",
       "05     1.0\n",
       "06    13.0\n",
       "07    10.0\n",
       "08    33.0\n",
       "09    50.0\n",
       "10    51.0\n",
       "11    62.0\n",
       "12    53.0\n",
       "13    43.0\n",
       "14    58.0\n",
       "15    60.0\n",
       "16    30.0\n",
       "Name: today, dtype: float64"
      ]
     },
     "execution_count": 7,
     "metadata": {},
     "output_type": "execute_result"
    }
   ],
   "source": [
    "df.today"
   ]
  },
  {
   "cell_type": "code",
   "execution_count": 8,
   "id": "6640c5af",
   "metadata": {},
   "outputs": [
    {
     "data": {
      "text/plain": [
       "avg_last_30days       0\n",
       "avg_last_7days        0\n",
       "same_day_last_week    1\n",
       "yesterday             2\n",
       "today                 2\n",
       "dtype: int64"
      ]
     },
     "execution_count": 8,
     "metadata": {},
     "output_type": "execute_result"
    }
   ],
   "source": [
    "df.isna().sum()"
   ]
  },
  {
   "cell_type": "code",
   "execution_count": 9,
   "id": "e3befdf8",
   "metadata": {},
   "outputs": [],
   "source": [
    "df.fillna(0, inplace=True)"
   ]
  },
  {
   "cell_type": "code",
   "execution_count": 10,
   "id": "6a53cfa3-0895-43fa-b29b-1dbdff8f55a2",
   "metadata": {},
   "outputs": [
    {
     "data": {
      "text/html": [
       "<div>\n",
       "<style scoped>\n",
       "    .dataframe tbody tr th:only-of-type {\n",
       "        vertical-align: middle;\n",
       "    }\n",
       "\n",
       "    .dataframe tbody tr th {\n",
       "        vertical-align: top;\n",
       "    }\n",
       "\n",
       "    .dataframe thead th {\n",
       "        text-align: right;\n",
       "    }\n",
       "</style>\n",
       "<table border=\"1\" class=\"dataframe\">\n",
       "  <thead>\n",
       "    <tr style=\"text-align: right;\">\n",
       "      <th>time</th>\n",
       "      <th>00</th>\n",
       "      <th>01</th>\n",
       "      <th>02</th>\n",
       "      <th>03</th>\n",
       "      <th>04</th>\n",
       "      <th>05</th>\n",
       "      <th>06</th>\n",
       "      <th>07</th>\n",
       "      <th>08</th>\n",
       "      <th>09</th>\n",
       "      <th>10</th>\n",
       "      <th>11</th>\n",
       "      <th>12</th>\n",
       "      <th>13</th>\n",
       "      <th>14</th>\n",
       "      <th>15</th>\n",
       "      <th>16</th>\n",
       "    </tr>\n",
       "  </thead>\n",
       "  <tbody>\n",
       "    <tr>\n",
       "      <th>count</th>\n",
       "      <td>5.000000</td>\n",
       "      <td>5.000000</td>\n",
       "      <td>5.000000</td>\n",
       "      <td>5.000000</td>\n",
       "      <td>5.000000</td>\n",
       "      <td>5.000000</td>\n",
       "      <td>5.000000</td>\n",
       "      <td>5.000000</td>\n",
       "      <td>5.000000</td>\n",
       "      <td>5.000000</td>\n",
       "      <td>5.000000</td>\n",
       "      <td>5.000000</td>\n",
       "      <td>5.000000</td>\n",
       "      <td>5.000000</td>\n",
       "      <td>5.000000</td>\n",
       "      <td>5.000000</td>\n",
       "      <td>5.000000</td>\n",
       "    </tr>\n",
       "    <tr>\n",
       "      <th>mean</th>\n",
       "      <td>13.400000</td>\n",
       "      <td>4.420000</td>\n",
       "      <td>2.150000</td>\n",
       "      <td>0.750000</td>\n",
       "      <td>0.720000</td>\n",
       "      <td>0.560000</td>\n",
       "      <td>4.840000</td>\n",
       "      <td>12.290000</td>\n",
       "      <td>31.350000</td>\n",
       "      <td>47.600000</td>\n",
       "      <td>53.180000</td>\n",
       "      <td>59.310000</td>\n",
       "      <td>49.300000</td>\n",
       "      <td>56.850000</td>\n",
       "      <td>56.180000</td>\n",
       "      <td>64.810000</td>\n",
       "      <td>38.840000</td>\n",
       "    </tr>\n",
       "    <tr>\n",
       "      <th>std</th>\n",
       "      <td>2.622975</td>\n",
       "      <td>1.530359</td>\n",
       "      <td>0.782624</td>\n",
       "      <td>0.466369</td>\n",
       "      <td>0.672309</td>\n",
       "      <td>0.517687</td>\n",
       "      <td>4.633357</td>\n",
       "      <td>2.212578</td>\n",
       "      <td>6.095695</td>\n",
       "      <td>2.073644</td>\n",
       "      <td>3.932175</td>\n",
       "      <td>2.104875</td>\n",
       "      <td>5.121523</td>\n",
       "      <td>8.694395</td>\n",
       "      <td>5.909484</td>\n",
       "      <td>4.596792</td>\n",
       "      <td>5.452339</td>\n",
       "    </tr>\n",
       "    <tr>\n",
       "      <th>min</th>\n",
       "      <td>9.000000</td>\n",
       "      <td>2.000000</td>\n",
       "      <td>1.000000</td>\n",
       "      <td>0.000000</td>\n",
       "      <td>0.000000</td>\n",
       "      <td>0.000000</td>\n",
       "      <td>2.000000</td>\n",
       "      <td>10.000000</td>\n",
       "      <td>25.000000</td>\n",
       "      <td>45.000000</td>\n",
       "      <td>48.000000</td>\n",
       "      <td>57.000000</td>\n",
       "      <td>43.000000</td>\n",
       "      <td>43.000000</td>\n",
       "      <td>47.000000</td>\n",
       "      <td>60.000000</td>\n",
       "      <td>30.000000</td>\n",
       "    </tr>\n",
       "    <tr>\n",
       "      <th>25%</th>\n",
       "      <td>13.600000</td>\n",
       "      <td>4.000000</td>\n",
       "      <td>2.000000</td>\n",
       "      <td>0.600000</td>\n",
       "      <td>0.000000</td>\n",
       "      <td>0.000000</td>\n",
       "      <td>2.000000</td>\n",
       "      <td>10.000000</td>\n",
       "      <td>28.550000</td>\n",
       "      <td>46.000000</td>\n",
       "      <td>51.000000</td>\n",
       "      <td>58.000000</td>\n",
       "      <td>45.000000</td>\n",
       "      <td>57.000000</td>\n",
       "      <td>54.800000</td>\n",
       "      <td>62.050000</td>\n",
       "      <td>38.000000</td>\n",
       "    </tr>\n",
       "    <tr>\n",
       "      <th>50%</th>\n",
       "      <td>14.000000</td>\n",
       "      <td>4.900000</td>\n",
       "      <td>2.000000</td>\n",
       "      <td>1.000000</td>\n",
       "      <td>1.000000</td>\n",
       "      <td>0.800000</td>\n",
       "      <td>3.400000</td>\n",
       "      <td>13.200000</td>\n",
       "      <td>29.200000</td>\n",
       "      <td>48.000000</td>\n",
       "      <td>53.000000</td>\n",
       "      <td>58.550000</td>\n",
       "      <td>50.600000</td>\n",
       "      <td>57.850000</td>\n",
       "      <td>58.000000</td>\n",
       "      <td>64.000000</td>\n",
       "      <td>40.000000</td>\n",
       "    </tr>\n",
       "    <tr>\n",
       "      <th>75%</th>\n",
       "      <td>14.400000</td>\n",
       "      <td>5.200000</td>\n",
       "      <td>2.750000</td>\n",
       "      <td>1.000000</td>\n",
       "      <td>1.200000</td>\n",
       "      <td>1.000000</td>\n",
       "      <td>3.800000</td>\n",
       "      <td>13.250000</td>\n",
       "      <td>33.000000</td>\n",
       "      <td>49.000000</td>\n",
       "      <td>56.000000</td>\n",
       "      <td>61.000000</td>\n",
       "      <td>53.000000</td>\n",
       "      <td>59.400000</td>\n",
       "      <td>58.100000</td>\n",
       "      <td>66.000000</td>\n",
       "      <td>42.000000</td>\n",
       "    </tr>\n",
       "    <tr>\n",
       "      <th>max</th>\n",
       "      <td>16.000000</td>\n",
       "      <td>6.000000</td>\n",
       "      <td>3.000000</td>\n",
       "      <td>1.150000</td>\n",
       "      <td>1.400000</td>\n",
       "      <td>1.000000</td>\n",
       "      <td>13.000000</td>\n",
       "      <td>15.000000</td>\n",
       "      <td>41.000000</td>\n",
       "      <td>50.000000</td>\n",
       "      <td>57.900000</td>\n",
       "      <td>62.000000</td>\n",
       "      <td>54.900000</td>\n",
       "      <td>67.000000</td>\n",
       "      <td>63.000000</td>\n",
       "      <td>72.000000</td>\n",
       "      <td>44.200000</td>\n",
       "    </tr>\n",
       "  </tbody>\n",
       "</table>\n",
       "</div>"
      ],
      "text/plain": [
       "time          00        01        02        03        04        05         06  \\\n",
       "count   5.000000  5.000000  5.000000  5.000000  5.000000  5.000000   5.000000   \n",
       "mean   13.400000  4.420000  2.150000  0.750000  0.720000  0.560000   4.840000   \n",
       "std     2.622975  1.530359  0.782624  0.466369  0.672309  0.517687   4.633357   \n",
       "min     9.000000  2.000000  1.000000  0.000000  0.000000  0.000000   2.000000   \n",
       "25%    13.600000  4.000000  2.000000  0.600000  0.000000  0.000000   2.000000   \n",
       "50%    14.000000  4.900000  2.000000  1.000000  1.000000  0.800000   3.400000   \n",
       "75%    14.400000  5.200000  2.750000  1.000000  1.200000  1.000000   3.800000   \n",
       "max    16.000000  6.000000  3.000000  1.150000  1.400000  1.000000  13.000000   \n",
       "\n",
       "time          07         08         09         10         11         12  \\\n",
       "count   5.000000   5.000000   5.000000   5.000000   5.000000   5.000000   \n",
       "mean   12.290000  31.350000  47.600000  53.180000  59.310000  49.300000   \n",
       "std     2.212578   6.095695   2.073644   3.932175   2.104875   5.121523   \n",
       "min    10.000000  25.000000  45.000000  48.000000  57.000000  43.000000   \n",
       "25%    10.000000  28.550000  46.000000  51.000000  58.000000  45.000000   \n",
       "50%    13.200000  29.200000  48.000000  53.000000  58.550000  50.600000   \n",
       "75%    13.250000  33.000000  49.000000  56.000000  61.000000  53.000000   \n",
       "max    15.000000  41.000000  50.000000  57.900000  62.000000  54.900000   \n",
       "\n",
       "time          13         14         15         16  \n",
       "count   5.000000   5.000000   5.000000   5.000000  \n",
       "mean   56.850000  56.180000  64.810000  38.840000  \n",
       "std     8.694395   5.909484   4.596792   5.452339  \n",
       "min    43.000000  47.000000  60.000000  30.000000  \n",
       "25%    57.000000  54.800000  62.050000  38.000000  \n",
       "50%    57.850000  58.000000  64.000000  40.000000  \n",
       "75%    59.400000  58.100000  66.000000  42.000000  \n",
       "max    67.000000  63.000000  72.000000  44.200000  "
      ]
     },
     "execution_count": 10,
     "metadata": {},
     "output_type": "execute_result"
    }
   ],
   "source": [
    "df.T.describe()"
   ]
  },
  {
   "cell_type": "markdown",
   "id": "679d01d9",
   "metadata": {},
   "source": [
    "### Gráfico: Hoje x Valores Diários"
   ]
  },
  {
   "cell_type": "code",
   "execution_count": 12,
   "id": "46ea10e3",
   "metadata": {},
   "outputs": [
    {
     "data": {
      "image/png": "[encoded data removed]",
      "text/plain": [
       "<Figure size 640x480 with 3 Axes>"
      ]
     },
     "metadata": {},
     "output_type": "display_data"
    }
   ],
   "source": [
    "from plotting_tools import composed_plot\n",
    "\n",
    "composed_plot(\n",
    "    y1=\"yesterday\",\n",
    "    y2=\"same_day_last_week\",\n",
    "    data=df,\n",
    "    title1=\"ONTEM\",\n",
    "    title2=\"MESMO DIA NA SEMANA PASSADA\",\n",
    "    markers=None,\n",
    ")\n"
   ]
  },
  {
   "cell_type": "code",
   "execution_count": 13,
   "id": "ebe1cf85",
   "metadata": {},
   "outputs": [
    {
     "data": {
      "image/png": "[encoded data removed]",
      "text/plain": [
       "<Figure size 640x480 with 3 Axes>"
      ]
     },
     "metadata": {},
     "output_type": "display_data"
    }
   ],
   "source": [
    "composed_plot(\n",
    "    y1=\"avg_last_7days\",\n",
    "    y2=\"avg_last_30days\",\n",
    "    data=df,\n",
    "    title1=\"Média dos últimos 7 dias\",\n",
    "    title2=\"Média dos últimos 30 dias\",\n",
    "    markers=None,\n",
    ")"
   ]
  },
  {
   "cell_type": "markdown",
   "id": "57be04e8",
   "metadata": {},
   "source": [
    "## Possíveis Anomalias"
   ]
  },
  {
   "cell_type": "code",
   "execution_count": 16,
   "id": "42f9a039",
   "metadata": {},
   "outputs": [
    {
     "data": {
      "text/plain": [
       "avg_last_30days        3.8\n",
       "avg_last_7days         3.4\n",
       "same_day_last_week     2.0\n",
       "yesterday              2.0\n",
       "today                 13.0\n",
       "Name: 06, dtype: float64"
      ]
     },
     "execution_count": 16,
     "metadata": {},
     "output_type": "execute_result"
    }
   ],
   "source": [
    "df.iloc[6,:]"
   ]
  },
  {
   "cell_type": "code",
   "execution_count": 24,
   "id": "c5159904",
   "metadata": {},
   "outputs": [
    {
     "data": {
      "text/plain": [
       "avg_last_30days       28.55\n",
       "avg_last_7days        29.20\n",
       "same_day_last_week    41.00\n",
       "yesterday             25.00\n",
       "today                 33.00\n",
       "Name: 08, dtype: float64"
      ]
     },
     "execution_count": 24,
     "metadata": {},
     "output_type": "execute_result"
    }
   ],
   "source": [
    "df.iloc[8,:]"
   ]
  },
  {
   "cell_type": "code",
   "execution_count": 21,
   "id": "8d9cab4d",
   "metadata": {},
   "outputs": [
    {
     "data": {
      "text/plain": [
       "avg_last_30days       57.85\n",
       "avg_last_7days        59.40\n",
       "same_day_last_week    57.00\n",
       "yesterday             67.00\n",
       "today                 43.00\n",
       "Name: 13, dtype: float64"
      ]
     },
     "execution_count": 21,
     "metadata": {},
     "output_type": "execute_result"
    }
   ],
   "source": [
    "df.iloc[13,:]"
   ]
  },
  {
   "cell_type": "markdown",
   "id": "b43eee5b",
   "metadata": {},
   "source": []
  },
  {
   "cell_type": "code",
   "execution_count": 28,
   "id": "d1518d87",
   "metadata": {},
   "outputs": [
    {
     "data": {
      "text/plain": [
       "<AxesSubplot:>"
      ]
     },
     "execution_count": 28,
     "metadata": {},
     "output_type": "execute_result"
    },
    {
     "data": {
      "image/png": "[encoded data removed]",
      "text/plain": [
       "<Figure size 640x480 with 1 Axes>"
      ]
     },
     "metadata": {},
     "output_type": "display_data"
    }
   ],
   "source": [
    "df.iloc[[6,8,13],:].T.boxplot()"
   ]
  },
  {
   "cell_type": "markdown",
   "id": "330bba14",
   "metadata": {},
   "source": [
    "### Comparando difierenças"
   ]
  },
  {
   "cell_type": "code",
   "execution_count": 30,
   "id": "4eeba995",
   "metadata": {},
   "outputs": [
    {
     "data": {
      "text/html": [
       "<div>\n",
       "<style scoped>\n",
       "    .dataframe tbody tr th:only-of-type {\n",
       "        vertical-align: middle;\n",
       "    }\n",
       "\n",
       "    .dataframe tbody tr th {\n",
       "        vertical-align: top;\n",
       "    }\n",
       "\n",
       "    .dataframe thead th {\n",
       "        text-align: right;\n",
       "    }\n",
       "</style>\n",
       "<table border=\"1\" class=\"dataframe\">\n",
       "  <thead>\n",
       "    <tr style=\"text-align: right;\">\n",
       "      <th></th>\n",
       "      <th>avg_last_30days</th>\n",
       "      <th>avg_last_7days</th>\n",
       "      <th>same_day_last_week</th>\n",
       "      <th>yesterday</th>\n",
       "      <th>today</th>\n",
       "    </tr>\n",
       "    <tr>\n",
       "      <th>time</th>\n",
       "      <th></th>\n",
       "      <th></th>\n",
       "      <th></th>\n",
       "      <th></th>\n",
       "      <th></th>\n",
       "    </tr>\n",
       "  </thead>\n",
       "  <tbody>\n",
       "    <tr>\n",
       "      <th>00</th>\n",
       "      <td>NaN</td>\n",
       "      <td>NaN</td>\n",
       "      <td>NaN</td>\n",
       "      <td>NaN</td>\n",
       "      <td>NaN</td>\n",
       "    </tr>\n",
       "    <tr>\n",
       "      <th>01</th>\n",
       "      <td>-8.70</td>\n",
       "      <td>-9.2</td>\n",
       "      <td>-14.0</td>\n",
       "      <td>-5.0</td>\n",
       "      <td>-8.0</td>\n",
       "    </tr>\n",
       "    <tr>\n",
       "      <th>02</th>\n",
       "      <td>-2.15</td>\n",
       "      <td>-3.2</td>\n",
       "      <td>1.0</td>\n",
       "      <td>-3.0</td>\n",
       "      <td>-4.0</td>\n",
       "    </tr>\n",
       "    <tr>\n",
       "      <th>03</th>\n",
       "      <td>-1.60</td>\n",
       "      <td>-1.4</td>\n",
       "      <td>-2.0</td>\n",
       "      <td>0.0</td>\n",
       "      <td>-2.0</td>\n",
       "    </tr>\n",
       "    <tr>\n",
       "      <th>04</th>\n",
       "      <td>0.05</td>\n",
       "      <td>0.8</td>\n",
       "      <td>0.0</td>\n",
       "      <td>-1.0</td>\n",
       "      <td>0.0</td>\n",
       "    </tr>\n",
       "  </tbody>\n",
       "</table>\n",
       "</div>"
      ],
      "text/plain": [
       "      avg_last_30days  avg_last_7days  same_day_last_week  yesterday  today\n",
       "time                                                                       \n",
       "00                NaN             NaN                 NaN        NaN    NaN\n",
       "01              -8.70            -9.2               -14.0       -5.0   -8.0\n",
       "02              -2.15            -3.2                 1.0       -3.0   -4.0\n",
       "03              -1.60            -1.4                -2.0        0.0   -2.0\n",
       "04               0.05             0.8                 0.0       -1.0    0.0"
      ]
     },
     "execution_count": 30,
     "metadata": {},
     "output_type": "execute_result"
    }
   ],
   "source": [
    "df_diff = df.diff()\n",
    "df_diff.head()"
   ]
  },
  {
   "cell_type": "code",
   "execution_count": 31,
   "id": "bc6bdd15",
   "metadata": {},
   "outputs": [
    {
     "data": {
      "image/png": "[encoded data removed]",
      "text/plain": [
       "<Figure size 640x480 with 3 Axes>"
      ]
     },
     "metadata": {},
     "output_type": "display_data"
    }
   ],
   "source": [
    "composed_plot(\n",
    "    y1=\"yesterday\",\n",
    "    y2=\"same_day_last_week\",\n",
    "    data=df_diff,\n",
    "    title1=\"ONTEM\",\n",
    "    title2=\"MESMO DIA NA SEMANA PASSADA\",\n",
    "    markers=None,\n",
    ")\n"
   ]
  },
  {
   "cell_type": "code",
   "execution_count": 32,
   "id": "ae51bd66",
   "metadata": {},
   "outputs": [
    {
     "data": {
      "image/png": "[encoded data removed]",
      "text/plain": [
       "<Figure size 640x480 with 3 Axes>"
      ]
     },
     "metadata": {},
     "output_type": "display_data"
    }
   ],
   "source": [
    "composed_plot(\n",
    "    y1=\"avg_last_7days\",\n",
    "    y2=\"avg_last_30days\",\n",
    "    data=df_diff,\n",
    "    title1=\"Média dos últimos 7 dias\",\n",
    "    title2=\"Média dos últimos 30 dias\",\n",
    "    markers=None,\n",
    ")"
   ]
  },
  {
   "cell_type": "code",
   "execution_count": 37,
   "id": "fbc53d59",
   "metadata": {},
   "outputs": [
    {
     "data": {
      "text/plain": [
       "avg_last_30days        3.0\n",
       "avg_last_7days         2.4\n",
       "same_day_last_week     2.0\n",
       "yesterday              2.0\n",
       "today                 12.0\n",
       "Name: 06, dtype: float64"
      ]
     },
     "execution_count": 37,
     "metadata": {},
     "output_type": "execute_result"
    }
   ],
   "source": [
    "df_diff.iloc[6,:]"
   ]
  },
  {
   "cell_type": "code",
   "execution_count": 36,
   "id": "78e088c7",
   "metadata": {},
   "outputs": [
    {
     "data": {
      "text/plain": [
       "avg_last_30days       15.3\n",
       "avg_last_7days        16.0\n",
       "same_day_last_week    26.0\n",
       "yesterday             15.0\n",
       "today                 23.0\n",
       "Name: 08, dtype: float64"
      ]
     },
     "execution_count": 36,
     "metadata": {},
     "output_type": "execute_result"
    }
   ],
   "source": [
    "df_diff.iloc[8,:]"
   ]
  },
  {
   "cell_type": "code",
   "execution_count": 35,
   "id": "54ed3f3e",
   "metadata": {},
   "outputs": [
    {
     "data": {
      "text/plain": [
       "avg_last_30days        2.95\n",
       "avg_last_7days         8.80\n",
       "same_day_last_week    12.00\n",
       "yesterday             24.00\n",
       "today                -10.00\n",
       "Name: 13, dtype: float64"
      ]
     },
     "execution_count": 35,
     "metadata": {},
     "output_type": "execute_result"
    }
   ],
   "source": [
    "df_diff.iloc[13,:]"
   ]
  },
  {
   "cell_type": "code",
   "execution_count": 39,
   "id": "74b13d6d",
   "metadata": {},
   "outputs": [
    {
     "data": {
      "text/plain": [
       "<AxesSubplot:>"
      ]
     },
     "execution_count": 39,
     "metadata": {},
     "output_type": "execute_result"
    },
    {
     "data": {
      "image/png": "[encoded data removed]",
      "text/plain": [
       "<Figure size 640x480 with 1 Axes>"
      ]
     },
     "metadata": {},
     "output_type": "display_data"
    }
   ],
   "source": [
    "df_diff.iloc[[6,8,13],:].T.boxplot()"
   ]
  },
  {
   "cell_type": "markdown",
   "id": "1300e9f0",
   "metadata": {},
   "source": [
    "### Detectando Outilier"
   ]
  },
  {
   "cell_type": "code",
   "execution_count": 49,
   "id": "847e7a4e",
   "metadata": {},
   "outputs": [
    {
     "data": {
      "text/html": [
       "<div>\n",
       "<style scoped>\n",
       "    .dataframe tbody tr th:only-of-type {\n",
       "        vertical-align: middle;\n",
       "    }\n",
       "\n",
       "    .dataframe tbody tr th {\n",
       "        vertical-align: top;\n",
       "    }\n",
       "\n",
       "    .dataframe thead th {\n",
       "        text-align: right;\n",
       "    }\n",
       "</style>\n",
       "<table border=\"1\" class=\"dataframe\">\n",
       "  <thead>\n",
       "    <tr style=\"text-align: right;\">\n",
       "      <th>time</th>\n",
       "      <th>00</th>\n",
       "      <th>01</th>\n",
       "      <th>02</th>\n",
       "      <th>03</th>\n",
       "      <th>04</th>\n",
       "      <th>05</th>\n",
       "      <th>06</th>\n",
       "      <th>07</th>\n",
       "      <th>08</th>\n",
       "      <th>09</th>\n",
       "      <th>10</th>\n",
       "      <th>11</th>\n",
       "      <th>12</th>\n",
       "      <th>13</th>\n",
       "      <th>14</th>\n",
       "      <th>15</th>\n",
       "      <th>16</th>\n",
       "    </tr>\n",
       "  </thead>\n",
       "  <tbody>\n",
       "    <tr>\n",
       "      <th>count</th>\n",
       "      <td>5.000000</td>\n",
       "      <td>5.000000</td>\n",
       "      <td>5.000000</td>\n",
       "      <td>5.000000</td>\n",
       "      <td>5.000000</td>\n",
       "      <td>5.000000</td>\n",
       "      <td>5.000000</td>\n",
       "      <td>5.000000</td>\n",
       "      <td>5.000000</td>\n",
       "      <td>5.000000</td>\n",
       "      <td>5.000000</td>\n",
       "      <td>5.000000</td>\n",
       "      <td>5.000000</td>\n",
       "      <td>5.000000</td>\n",
       "      <td>5.000000</td>\n",
       "      <td>5.000000</td>\n",
       "      <td>5.000000</td>\n",
       "    </tr>\n",
       "    <tr>\n",
       "      <th>mean</th>\n",
       "      <td>13.400000</td>\n",
       "      <td>4.420000</td>\n",
       "      <td>2.150000</td>\n",
       "      <td>0.750000</td>\n",
       "      <td>0.720000</td>\n",
       "      <td>0.560000</td>\n",
       "      <td>4.840000</td>\n",
       "      <td>12.290000</td>\n",
       "      <td>31.350000</td>\n",
       "      <td>47.600000</td>\n",
       "      <td>53.180000</td>\n",
       "      <td>59.310000</td>\n",
       "      <td>49.300000</td>\n",
       "      <td>56.850000</td>\n",
       "      <td>56.180000</td>\n",
       "      <td>64.810000</td>\n",
       "      <td>38.840000</td>\n",
       "    </tr>\n",
       "    <tr>\n",
       "      <th>std</th>\n",
       "      <td>2.622975</td>\n",
       "      <td>1.530359</td>\n",
       "      <td>0.782624</td>\n",
       "      <td>0.466369</td>\n",
       "      <td>0.672309</td>\n",
       "      <td>0.517687</td>\n",
       "      <td>4.633357</td>\n",
       "      <td>2.212578</td>\n",
       "      <td>6.095695</td>\n",
       "      <td>2.073644</td>\n",
       "      <td>3.932175</td>\n",
       "      <td>2.104875</td>\n",
       "      <td>5.121523</td>\n",
       "      <td>8.694395</td>\n",
       "      <td>5.909484</td>\n",
       "      <td>4.596792</td>\n",
       "      <td>5.452339</td>\n",
       "    </tr>\n",
       "    <tr>\n",
       "      <th>min</th>\n",
       "      <td>9.000000</td>\n",
       "      <td>2.000000</td>\n",
       "      <td>1.000000</td>\n",
       "      <td>0.000000</td>\n",
       "      <td>0.000000</td>\n",
       "      <td>0.000000</td>\n",
       "      <td>2.000000</td>\n",
       "      <td>10.000000</td>\n",
       "      <td>25.000000</td>\n",
       "      <td>45.000000</td>\n",
       "      <td>48.000000</td>\n",
       "      <td>57.000000</td>\n",
       "      <td>43.000000</td>\n",
       "      <td>43.000000</td>\n",
       "      <td>47.000000</td>\n",
       "      <td>60.000000</td>\n",
       "      <td>30.000000</td>\n",
       "    </tr>\n",
       "    <tr>\n",
       "      <th>25%</th>\n",
       "      <td>13.600000</td>\n",
       "      <td>4.000000</td>\n",
       "      <td>2.000000</td>\n",
       "      <td>0.600000</td>\n",
       "      <td>0.000000</td>\n",
       "      <td>0.000000</td>\n",
       "      <td>2.000000</td>\n",
       "      <td>10.000000</td>\n",
       "      <td>28.550000</td>\n",
       "      <td>46.000000</td>\n",
       "      <td>51.000000</td>\n",
       "      <td>58.000000</td>\n",
       "      <td>45.000000</td>\n",
       "      <td>57.000000</td>\n",
       "      <td>54.800000</td>\n",
       "      <td>62.050000</td>\n",
       "      <td>38.000000</td>\n",
       "    </tr>\n",
       "    <tr>\n",
       "      <th>50%</th>\n",
       "      <td>14.000000</td>\n",
       "      <td>4.900000</td>\n",
       "      <td>2.000000</td>\n",
       "      <td>1.000000</td>\n",
       "      <td>1.000000</td>\n",
       "      <td>0.800000</td>\n",
       "      <td>3.400000</td>\n",
       "      <td>13.200000</td>\n",
       "      <td>29.200000</td>\n",
       "      <td>48.000000</td>\n",
       "      <td>53.000000</td>\n",
       "      <td>58.550000</td>\n",
       "      <td>50.600000</td>\n",
       "      <td>57.850000</td>\n",
       "      <td>58.000000</td>\n",
       "      <td>64.000000</td>\n",
       "      <td>40.000000</td>\n",
       "    </tr>\n",
       "    <tr>\n",
       "      <th>75%</th>\n",
       "      <td>14.400000</td>\n",
       "      <td>5.200000</td>\n",
       "      <td>2.750000</td>\n",
       "      <td>1.000000</td>\n",
       "      <td>1.200000</td>\n",
       "      <td>1.000000</td>\n",
       "      <td>3.800000</td>\n",
       "      <td>13.250000</td>\n",
       "      <td>33.000000</td>\n",
       "      <td>49.000000</td>\n",
       "      <td>56.000000</td>\n",
       "      <td>61.000000</td>\n",
       "      <td>53.000000</td>\n",
       "      <td>59.400000</td>\n",
       "      <td>58.100000</td>\n",
       "      <td>66.000000</td>\n",
       "      <td>42.000000</td>\n",
       "    </tr>\n",
       "    <tr>\n",
       "      <th>max</th>\n",
       "      <td>16.000000</td>\n",
       "      <td>6.000000</td>\n",
       "      <td>3.000000</td>\n",
       "      <td>1.150000</td>\n",
       "      <td>1.400000</td>\n",
       "      <td>1.000000</td>\n",
       "      <td>13.000000</td>\n",
       "      <td>15.000000</td>\n",
       "      <td>41.000000</td>\n",
       "      <td>50.000000</td>\n",
       "      <td>57.900000</td>\n",
       "      <td>62.000000</td>\n",
       "      <td>54.900000</td>\n",
       "      <td>67.000000</td>\n",
       "      <td>63.000000</td>\n",
       "      <td>72.000000</td>\n",
       "      <td>44.200000</td>\n",
       "    </tr>\n",
       "  </tbody>\n",
       "</table>\n",
       "</div>"
      ],
      "text/plain": [
       "time          00        01        02        03        04        05         06  \\\n",
       "count   5.000000  5.000000  5.000000  5.000000  5.000000  5.000000   5.000000   \n",
       "mean   13.400000  4.420000  2.150000  0.750000  0.720000  0.560000   4.840000   \n",
       "std     2.622975  1.530359  0.782624  0.466369  0.672309  0.517687   4.633357   \n",
       "min     9.000000  2.000000  1.000000  0.000000  0.000000  0.000000   2.000000   \n",
       "25%    13.600000  4.000000  2.000000  0.600000  0.000000  0.000000   2.000000   \n",
       "50%    14.000000  4.900000  2.000000  1.000000  1.000000  0.800000   3.400000   \n",
       "75%    14.400000  5.200000  2.750000  1.000000  1.200000  1.000000   3.800000   \n",
       "max    16.000000  6.000000  3.000000  1.150000  1.400000  1.000000  13.000000   \n",
       "\n",
       "time          07         08         09         10         11         12  \\\n",
       "count   5.000000   5.000000   5.000000   5.000000   5.000000   5.000000   \n",
       "mean   12.290000  31.350000  47.600000  53.180000  59.310000  49.300000   \n",
       "std     2.212578   6.095695   2.073644   3.932175   2.104875   5.121523   \n",
       "min    10.000000  25.000000  45.000000  48.000000  57.000000  43.000000   \n",
       "25%    10.000000  28.550000  46.000000  51.000000  58.000000  45.000000   \n",
       "50%    13.200000  29.200000  48.000000  53.000000  58.550000  50.600000   \n",
       "75%    13.250000  33.000000  49.000000  56.000000  61.000000  53.000000   \n",
       "max    15.000000  41.000000  50.000000  57.900000  62.000000  54.900000   \n",
       "\n",
       "time          13         14         15         16  \n",
       "count   5.000000   5.000000   5.000000   5.000000  \n",
       "mean   56.850000  56.180000  64.810000  38.840000  \n",
       "std     8.694395   5.909484   4.596792   5.452339  \n",
       "min    43.000000  47.000000  60.000000  30.000000  \n",
       "25%    57.000000  54.800000  62.050000  38.000000  \n",
       "50%    57.850000  58.000000  64.000000  40.000000  \n",
       "75%    59.400000  58.100000  66.000000  42.000000  \n",
       "max    67.000000  63.000000  72.000000  44.200000  "
      ]
     },
     "execution_count": 49,
     "metadata": {},
     "output_type": "execute_result"
    }
   ],
   "source": [
    "df.T.describe()"
   ]
  },
  {
   "cell_type": "code",
   "execution_count": 56,
   "id": "7e641fb0",
   "metadata": {},
   "outputs": [
    {
     "data": {
      "text/plain": [
       "time\n",
       "00    13.60\n",
       "01     4.00\n",
       "02     2.00\n",
       "03     0.60\n",
       "04     0.00\n",
       "05     0.00\n",
       "06     2.00\n",
       "07    10.00\n",
       "08    28.55\n",
       "09    46.00\n",
       "10    51.00\n",
       "11    58.00\n",
       "12    45.00\n",
       "13    57.00\n",
       "14    54.80\n",
       "15    62.05\n",
       "16    38.00\n",
       "Name: 25%, dtype: float64"
      ]
     },
     "execution_count": 56,
     "metadata": {},
     "output_type": "execute_result"
    }
   ],
   "source": [
    "q1 = df.T.describe().loc[\"25%\",:]\n",
    "q1"
   ]
  },
  {
   "cell_type": "code",
   "execution_count": 57,
   "id": "25838ab4",
   "metadata": {},
   "outputs": [
    {
     "data": {
      "text/plain": [
       "time\n",
       "00    14.40\n",
       "01     5.20\n",
       "02     2.75\n",
       "03     1.00\n",
       "04     1.20\n",
       "05     1.00\n",
       "06     3.80\n",
       "07    13.25\n",
       "08    33.00\n",
       "09    49.00\n",
       "10    56.00\n",
       "11    61.00\n",
       "12    53.00\n",
       "13    59.40\n",
       "14    58.10\n",
       "15    66.00\n",
       "16    42.00\n",
       "Name: 75%, dtype: float64"
      ]
     },
     "execution_count": 57,
     "metadata": {},
     "output_type": "execute_result"
    }
   ],
   "source": [
    "q3 = df.T.describe().loc[\"75%\",:]\n",
    "q3"
   ]
  },
  {
   "cell_type": "code",
   "execution_count": 60,
   "id": "43d1b3d0",
   "metadata": {},
   "outputs": [],
   "source": [
    "iqr = q3 - q1"
   ]
  },
  {
   "cell_type": "code",
   "execution_count": 61,
   "id": "83cb782c",
   "metadata": {},
   "outputs": [],
   "source": [
    "limite_superior = q3 + 1.5 * iqr\n",
    "limite_inferior = q1 - 1.5 * iqr"
   ]
  },
  {
   "cell_type": "code",
   "execution_count": 64,
   "id": "d52ecb61",
   "metadata": {},
   "outputs": [],
   "source": [
    "df[\"outlier\"] = (df.today < limite_inferior) | (df.today > limite_superior)"
   ]
  },
  {
   "cell_type": "code",
   "execution_count": 65,
   "id": "bf75d797",
   "metadata": {},
   "outputs": [
    {
     "data": {
      "text/plain": [
       "time\n",
       "00    False\n",
       "01    False\n",
       "02    False\n",
       "03    False\n",
       "04    False\n",
       "05    False\n",
       "06     True\n",
       "07    False\n",
       "08    False\n",
       "09    False\n",
       "10    False\n",
       "11    False\n",
       "12    False\n",
       "13     True\n",
       "14    False\n",
       "15    False\n",
       "16     True\n",
       "Name: outlier, dtype: bool"
      ]
     },
     "execution_count": 65,
     "metadata": {},
     "output_type": "execute_result"
    }
   ],
   "source": [
    "df[\"outlier\"]"
   ]
  },
  {
   "cell_type": "code",
   "execution_count": 66,
   "id": "55552cc0",
   "metadata": {},
   "outputs": [
    {
     "data": {
      "text/plain": [
       "avg_last_30days       44.2\n",
       "avg_last_7days        40.0\n",
       "same_day_last_week    42.0\n",
       "yesterday             38.0\n",
       "today                 30.0\n",
       "outlier               True\n",
       "Name: 16, dtype: object"
      ]
     },
     "execution_count": 66,
     "metadata": {},
     "output_type": "execute_result"
    }
   ],
   "source": [
    "df.iloc[16,:]"
   ]
  },
  {
   "cell_type": "markdown",
   "id": "a53920d1",
   "metadata": {},
   "source": []
  }
 ],
 "metadata": {
  "kernelspec": {
   "display_name": "Python 3.10.4 ('analise1')",
   "language": "python",
   "name": "python3"
  },
  "language_info": {
   "codemirror_mode": {
    "name": "ipython",
    "version": 3
   },
   "file_extension": ".py",
   "mimetype": "text/x-python",
   "name": "python",
   "nbconvert_exporter": "python",
   "pygments_lexer": "ipython3",
   "version": "3.10.4"
  },
  "vscode": {
   "interpreter": {
    "hash": "24d0c357df85f88d8a30c539c8c90e12b071d250a66b5a620e1f52dbdbb688de"
   }
  }
 },
 "nbformat": 4,
 "nbformat_minor": 5
}
